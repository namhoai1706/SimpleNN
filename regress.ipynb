{
 "cells": [
  {
   "cell_type": "code",
   "execution_count": 1068,
   "metadata": {},
   "outputs": [],
   "source": [
    "import matplotlib.pyplot as plt\n",
    "import numpy as np\n",
    "import pandas as pd"
   ]
  },
  {
   "cell_type": "code",
   "execution_count": 1069,
   "metadata": {},
   "outputs": [],
   "source": [
    "data = pd.read_csv(\"/path/BostonHousing.csv\")\n"
   ]
  },
  {
   "cell_type": "code",
   "execution_count": 1070,
   "metadata": {},
   "outputs": [],
   "source": [
    "data = np.array(data)\n",
    "m, n = data.shape\n",
    "np.random.shuffle(data)\n",
    "x = data[:,:n-1]\n",
    "y = data[:,n-1]"
   ]
  },
  {
   "cell_type": "code",
   "execution_count": 1071,
   "metadata": {},
   "outputs": [],
   "source": [
    "def normallization(x):\n",
    "    mean = np.mean(x)\n",
    "    std = np.std(x)\n",
    "    return (x-mean)/std"
   ]
  },
  {
   "cell_type": "code",
   "execution_count": 1072,
   "metadata": {},
   "outputs": [
    {
     "name": "stdout",
     "output_type": "stream",
     "text": [
      "(256,)\n"
     ]
    }
   ],
   "source": [
    "x = normallization(x)\n",
    "x_dev = x[:250]\n",
    "x_train = x[250:]\n",
    "y_dev = y[:250]\n",
    "y_train = y[250:]\n",
    "print((y_train.shape))\n"
   ]
  },
  {
   "cell_type": "code",
   "execution_count": 1073,
   "metadata": {},
   "outputs": [],
   "source": [
    "input_dim = 13\n",
    "output_dim = 1\n",
    "learning_rate = 0.02\n",
    "hidden_dim = 6\n",
    "epochs = 5000\n"
   ]
  },
  {
   "cell_type": "code",
   "execution_count": 1074,
   "metadata": {},
   "outputs": [],
   "source": [
    "w1 = np.random.randn(input_dim, hidden_dim)\n",
    "b1 = np.zeros((1, hidden_dim))\n",
    "w2 = np.random.randn(hidden_dim, output_dim)\n",
    "b2 = np.zeros((1, output_dim))\n",
    "NN = {\"w1\": w1, \"b1\": b1, \"w2\": w2, \"b2\": b2}\n",
    "NN2 = NN.copy()"
   ]
  },
  {
   "cell_type": "code",
   "execution_count": 1075,
   "metadata": {},
   "outputs": [],
   "source": [
    "def sigmoid(x):\n",
    "    return 1 / (1 + np.exp(-x))\n",
    "\n",
    "\n",
    "def get_item(NN):\n",
    "    w1 = NN[\"w1\"]\n",
    "    b1 = NN[\"b1\"]\n",
    "    w2 = NN[\"w2\"]\n",
    "    b2 = NN[\"b2\"]\n",
    "    return w1, b1, w2, b2\n",
    "\n",
    "\n",
    "def sigmoid_deriv(x):\n",
    "    return x * (1 - x)"
   ]
  },
  {
   "cell_type": "code",
   "execution_count": 1077,
   "metadata": {},
   "outputs": [],
   "source": [
    "def forward(x, NN):\n",
    "    W1, b1, W2, b2 = get_item(NN)\n",
    "    z1 = x.dot(W1) + b1\n",
    "    a1 = sigmoid(z1)\n",
    "    z2 = a1.dot(W2) + b2\n",
    "    return a1, z2"
   ]
  },
  {
   "cell_type": "code",
   "execution_count": 1078,
   "metadata": {},
   "outputs": [],
   "source": [
    "def lossMSE(y_true,y_pred):\n",
    "    return np.mean((y_true - y_pred) ** 2)"
   ]
  },
  {
   "cell_type": "code",
   "execution_count": 1079,
   "metadata": {},
   "outputs": [],
   "source": [
    "def backward(x, y, NN, learning_rate):\n",
    "\n",
    "    W1, b1, W2, b2 = get_item(NN)\n",
    "    a1, a2 = forward(x, NN)\n",
    "    h,_ = x.shape \n",
    "    delta3 = a2 - y.reshape(-1,1)\n",
    "\n",
    "    dW2 = (1 / h) * np.dot(a1.T, delta3)\n",
    "    db2 = (1 / h) * np.sum(delta3, axis=0, keepdims=True)\n",
    "\n",
    "    delta2 = np.dot(delta3, W2.T) * sigmoid_deriv(a1)\n",
    "    dW1 = (1 / h) * np.dot(x.T, delta2)\n",
    "    db1 = (1 / h) * np.sum(delta2, axis=0, keepdims=True)\n",
    "\n",
    "    # update\n",
    "    W1 += -learning_rate * dW1\n",
    "    b1 += -learning_rate * db1\n",
    "    W2 += -learning_rate * dW2\n",
    "    b2 += -learning_rate * db2\n",
    "    NN[\"w1\"] = W1\n",
    "    NN[\"b1\"] = b1\n",
    "    NN[\"w2\"] = W2\n",
    "    NN[\"b2\"] = b2\n",
    "\n",
    "    return lossMSE(a2,y.reshape(-1,1))"
   ]
  },
  {
   "cell_type": "code",
   "execution_count": 1080,
   "metadata": {},
   "outputs": [
    {
     "name": "stdout",
     "output_type": "stream",
     "text": [
      "epoch : 51\n",
      " mean_squared_error : 77.08\n",
      "epoch : 101\n",
      " mean_squared_error : 71.85\n",
      "epoch : 151\n",
      " mean_squared_error : 69.28\n",
      "epoch : 201\n",
      " mean_squared_error : 68.39\n",
      "epoch : 251\n",
      " mean_squared_error : 67.86\n",
      "epoch : 301\n",
      " mean_squared_error : 67.42\n",
      "epoch : 351\n",
      " mean_squared_error : 67.02\n",
      "epoch : 401\n",
      " mean_squared_error : 66.64\n",
      "epoch : 451\n",
      " mean_squared_error : 66.27\n",
      "epoch : 501\n",
      " mean_squared_error : 65.93\n",
      "epoch : 551\n",
      " mean_squared_error : 65.60\n",
      "epoch : 601\n",
      " mean_squared_error : 65.29\n",
      "epoch : 651\n",
      " mean_squared_error : 65.00\n",
      "epoch : 701\n",
      " mean_squared_error : 64.71\n",
      "epoch : 751\n",
      " mean_squared_error : 64.43\n",
      "epoch : 801\n",
      " mean_squared_error : 64.15\n",
      "epoch : 851\n",
      " mean_squared_error : 63.87\n",
      "epoch : 901\n",
      " mean_squared_error : 63.56\n",
      "epoch : 951\n",
      " mean_squared_error : 63.22\n",
      "epoch : 1001\n",
      " mean_squared_error : 62.74\n",
      "epoch : 1051\n",
      " mean_squared_error : 62.00\n",
      "epoch : 1101\n",
      " mean_squared_error : 61.05\n",
      "epoch : 1151\n",
      " mean_squared_error : 60.01\n",
      "epoch : 1201\n",
      " mean_squared_error : 59.31\n",
      "epoch : 1251\n",
      " mean_squared_error : 58.61\n",
      "epoch : 1301\n",
      " mean_squared_error : 59.86\n",
      "epoch : 1351\n",
      " mean_squared_error : 60.20\n",
      "epoch : 1401\n",
      " mean_squared_error : 59.97\n",
      "epoch : 1451\n",
      " mean_squared_error : 59.73\n",
      "epoch : 1501\n",
      " mean_squared_error : 59.50\n",
      "epoch : 1551\n",
      " mean_squared_error : 59.30\n",
      "epoch : 1601\n",
      " mean_squared_error : 59.09\n",
      "epoch : 1651\n",
      " mean_squared_error : 58.90\n",
      "epoch : 1701\n",
      " mean_squared_error : 58.71\n",
      "epoch : 1751\n",
      " mean_squared_error : 58.52\n",
      "epoch : 1801\n",
      " mean_squared_error : 58.33\n",
      "epoch : 1851\n",
      " mean_squared_error : 58.14\n",
      "epoch : 1901\n",
      " mean_squared_error : 57.96\n",
      "epoch : 1951\n",
      " mean_squared_error : 57.78\n",
      "epoch : 2001\n",
      " mean_squared_error : 57.59\n",
      "epoch : 2051\n",
      " mean_squared_error : 57.41\n",
      "epoch : 2101\n",
      " mean_squared_error : 57.23\n",
      "epoch : 2151\n",
      " mean_squared_error : 57.06\n",
      "epoch : 2201\n",
      " mean_squared_error : 56.88\n",
      "epoch : 2251\n",
      " mean_squared_error : 56.70\n",
      "epoch : 2301\n",
      " mean_squared_error : 56.53\n",
      "epoch : 2351\n",
      " mean_squared_error : 56.36\n",
      "epoch : 2401\n",
      " mean_squared_error : 56.19\n",
      "epoch : 2451\n",
      " mean_squared_error : 56.02\n",
      "epoch : 2501\n",
      " mean_squared_error : 55.86\n",
      "epoch : 2551\n",
      " mean_squared_error : 55.69\n",
      "epoch : 2601\n",
      " mean_squared_error : 55.53\n",
      "epoch : 2651\n",
      " mean_squared_error : 55.37\n",
      "epoch : 2701\n",
      " mean_squared_error : 55.21\n",
      "epoch : 2751\n",
      " mean_squared_error : 55.06\n",
      "epoch : 2801\n",
      " mean_squared_error : 54.90\n",
      "epoch : 2851\n",
      " mean_squared_error : 54.75\n",
      "epoch : 2901\n",
      " mean_squared_error : 54.60\n",
      "epoch : 2951\n",
      " mean_squared_error : 54.46\n",
      "epoch : 3001\n",
      " mean_squared_error : 54.31\n",
      "epoch : 3051\n",
      " mean_squared_error : 54.17\n",
      "epoch : 3101\n",
      " mean_squared_error : 54.02\n",
      "epoch : 3151\n",
      " mean_squared_error : 53.88\n",
      "epoch : 3201\n",
      " mean_squared_error : 53.74\n",
      "epoch : 3251\n",
      " mean_squared_error : 53.61\n",
      "epoch : 3301\n",
      " mean_squared_error : 53.47\n",
      "epoch : 3351\n",
      " mean_squared_error : 53.34\n",
      "epoch : 3401\n",
      " mean_squared_error : 53.21\n",
      "epoch : 3451\n",
      " mean_squared_error : 53.08\n",
      "epoch : 3501\n",
      " mean_squared_error : 52.96\n",
      "epoch : 3551\n",
      " mean_squared_error : 52.84\n",
      "epoch : 3601\n",
      " mean_squared_error : 52.72\n"
     ]
    },
    {
     "name": "stdout",
     "output_type": "stream",
     "text": [
      "epoch : 3651\n",
      " mean_squared_error : 52.60\n",
      "epoch : 3701\n",
      " mean_squared_error : 52.48\n",
      "epoch : 3751\n",
      " mean_squared_error : 52.37\n",
      "epoch : 3801\n",
      " mean_squared_error : 52.26\n",
      "epoch : 3851\n",
      " mean_squared_error : 52.15\n",
      "epoch : 3901\n",
      " mean_squared_error : 52.05\n",
      "epoch : 3951\n",
      " mean_squared_error : 51.95\n",
      "epoch : 4001\n",
      " mean_squared_error : 51.85\n",
      "epoch : 4051\n",
      " mean_squared_error : 51.76\n",
      "epoch : 4101\n",
      " mean_squared_error : 51.66\n",
      "epoch : 4151\n",
      " mean_squared_error : 51.58\n",
      "epoch : 4201\n",
      " mean_squared_error : 51.49\n",
      "epoch : 4251\n",
      " mean_squared_error : 51.40\n",
      "epoch : 4301\n",
      " mean_squared_error : 51.32\n",
      "epoch : 4351\n",
      " mean_squared_error : 51.23\n",
      "epoch : 4401\n",
      " mean_squared_error : 51.15\n",
      "epoch : 4451\n",
      " mean_squared_error : 51.06\n",
      "epoch : 4501\n",
      " mean_squared_error : 50.97\n",
      "epoch : 4551\n",
      " mean_squared_error : 50.88\n",
      "epoch : 4601\n",
      " mean_squared_error : 50.78\n",
      "epoch : 4651\n",
      " mean_squared_error : 50.67\n",
      "epoch : 4701\n",
      " mean_squared_error : 50.56\n",
      "epoch : 4751\n",
      " mean_squared_error : 50.44\n",
      "epoch : 4801\n",
      " mean_squared_error : 50.32\n",
      "epoch : 4851\n",
      " mean_squared_error : 50.18\n",
      "epoch : 4901\n",
      " mean_squared_error : 50.04\n",
      "epoch : 4951\n",
      " mean_squared_error : 49.89\n"
     ]
    }
   ],
   "source": [
    "for i in range(1,epochs):\n",
    "  a2 = backward(x_train, y_train, NN, learning_rate)\n",
    "  if i % 50 == 0:\n",
    "        \n",
    "      print('epoch :' ,i+1)\n",
    "      print(' mean_squared_error : %.2f'% a2)"
   ]
  },
  {
   "cell_type": "code",
   "execution_count": 1081,
   "metadata": {},
   "outputs": [],
   "source": [
    "\n",
    "def r2_score1(y_pred, y_true):\n",
    "    s1 = np.sum((y_true - y_pred) ** 2)\n",
    "    y_mean = np.mean(y_true)\n",
    "    s2 = np.sum((y_true - y_mean) ** 2)\n",
    "    return 1 - (s1 / s2)"
   ]
  },
  {
   "cell_type": "code",
   "execution_count": 1082,
   "metadata": {},
   "outputs": [
    {
     "name": "stdout",
     "output_type": "stream",
     "text": [
      " mean_squared_error : 35.77\n",
      "Coefficient of determination: 0.53\n"
     ]
    }
   ],
   "source": [
    "_,y_pred = forward(x_dev,NN)\n",
    "loss = lossMSE(y_pred,y_dev.reshape(-1,1))\n",
    "r2_score = r2_score1(y_pred,y_dev.reshape(-1,1))\n",
    "print(\" mean_squared_error : %.2f\"% loss)\n",
    "print(\"Coefficient of determination: %.2f\" % r2_score)"
   ]
  }
 ],
 "metadata": {
  "kernelspec": {
   "display_name": "env",
   "language": "python",
   "name": "python3"
  },
  "language_info": {
   "codemirror_mode": {
    "name": "ipython",
    "version": 3
   },
   "file_extension": ".py",
   "mimetype": "text/x-python",
   "name": "python",
   "nbconvert_exporter": "python",
   "pygments_lexer": "ipython3",
   "version": "3.10.12"
  }
 },
 "nbformat": 4,
 "nbformat_minor": 2
}
