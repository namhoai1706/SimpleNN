{
 "cells": [
  {
   "cell_type": "code",
   "execution_count": 12,
   "metadata": {},
   "outputs": [],
   "source": [
    "import numpy as np\n",
    "import torch\n",
    "import torch.nn as nn\n"
   ]
  },
  {
   "cell_type": "markdown",
   "metadata": {},
   "source": [
    "### Data"
   ]
  },
  {
   "cell_type": "code",
   "execution_count": 13,
   "metadata": {},
   "outputs": [],
   "source": [
    "x_train = np.random.rand(100, 5)\n",
    "y_train = np.random.randint(0, 2, (100)).reshape(-1, 1)\n",
    "x_train1 = torch.tensor(x_train)\n",
    "y_train1 = torch.tensor(y_train)\n",
    "# same with tensor                       \n",
    "x_train = np.round(x_train, decimals=4)\n",
    "\n"
   ]
  },
  {
   "cell_type": "markdown",
   "metadata": {},
   "source": [
    "### Hyperparameters"
   ]
  },
  {
   "cell_type": "code",
   "execution_count": 14,
   "metadata": {},
   "outputs": [],
   "source": [
    "input_dim = 5\n",
    "output_dim = 1\n",
    "hidden_dim = 3\n",
    "learning_rate = 0.001\n",
    "epochs = 30"
   ]
  },
  {
   "cell_type": "markdown",
   "metadata": {},
   "source": [
    "### Function"
   ]
  },
  {
   "cell_type": "code",
   "execution_count": 15,
   "metadata": {},
   "outputs": [],
   "source": [
    "def sigmoid(x):\n",
    "    return (1/(1+np.exp(-x)))"
   ]
  },
  {
   "cell_type": "code",
   "execution_count": 16,
   "metadata": {},
   "outputs": [],
   "source": [
    "def get_item(NN):\n",
    "    w1 = NN[\"w1\"]\n",
    "    b1 = NN[\"b1\"]\n",
    "    w2 = NN[\"w2\"]\n",
    "    b2 = NN[\"b2\"]\n",
    "    return w1, b1, w2, b2"
   ]
  },
  {
   "cell_type": "markdown",
   "metadata": {},
   "source": [
    "### Weights & Bias"
   ]
  },
  {
   "cell_type": "code",
   "execution_count": 17,
   "metadata": {},
   "outputs": [],
   "source": [
    "w1 = np.random.randn(input_dim, hidden_dim)\n",
    "b1 = np.zeros((1, hidden_dim))\n",
    "w2 = np.random.randn(hidden_dim, output_dim)\n",
    "b2 = np.zeros((1, output_dim))\n",
    "NN = {'w1':w1,'b1':b1,'w2':w2,'b2':b2}\n",
    "NN2 = NN"
   ]
  },
  {
   "cell_type": "markdown",
   "metadata": {},
   "source": [
    "## FOR AND BACK"
   ]
  },
  {
   "cell_type": "code",
   "execution_count": 18,
   "metadata": {},
   "outputs": [],
   "source": [
    "def forward(x,NN):\n",
    "    W1,b1,W2,b2=get_item(NN)\n",
    "    z1 = x.dot(W1) + b1\n",
    "    a1 = sigmoid(z1)\n",
    "    z2 = a1.dot(W2) + b2\n",
    "    a2 = sigmoid(z2)\n",
    "    return a1,a2"
   ]
  },
  {
   "cell_type": "code",
   "execution_count": 19,
   "metadata": {},
   "outputs": [],
   "source": [
    "def lossMSE(a2,y):\n",
    "\n",
    "    return np.mean(np.square(a2 - y))"
   ]
  },
  {
   "cell_type": "code",
   "execution_count": 20,
   "metadata": {},
   "outputs": [],
   "source": [
    "def backward(x, y,NN,learning_rate):\n",
    "\n",
    "    W1, b1, W2, b2 = get_item(NN)\n",
    "    a1,a2= forward(x,NN)\n",
    "\n",
    "    \n",
    "    delta3 = a2 - y\n",
    "\n",
    "    dW2 = np.dot(a1.T, delta3)\n",
    "    db2 = np.sum(delta3, axis=0, keepdims=True)\n",
    "\n",
    "    delta2 = np.dot(delta3, W2.T) * a1 * (1 - a1)\n",
    "    dW1 = np.dot(x.T, delta2)\n",
    "    db1 = np.sum(delta2, axis=0, keepdims=True)\n",
    "\n",
    "    # update\n",
    "    W1 += -learning_rate * dW1\n",
    "    b1 += -learning_rate * db1\n",
    "    W2 += -learning_rate * dW2\n",
    "    b2 += -learning_rate * db2\n",
    "    NN[\"w1\"] = W1\n",
    "    NN[\"b1\"] = b1\n",
    "    NN[\"w2\"] = W2\n",
    "    NN[\"b2\"] = b2\n",
    "\n",
    "    return lossMSE(a2,y)"
   ]
  },
  {
   "cell_type": "markdown",
   "metadata": {},
   "source": [
    "## CODE CHECK"
   ]
  },
  {
   "cell_type": "code",
   "execution_count": 21,
   "metadata": {},
   "outputs": [],
   "source": [
    "class SimpleNN(nn.Module):\n",
    "    def __init__(self, input_size, hidden_size, output_size,NN2):\n",
    "        super(SimpleNN, self).__init__()\n",
    "        self.fc1 = nn.Linear(input_size, hidden_size)\n",
    "        self.fc2 = nn.Linear(hidden_size, output_size)\n",
    "        self.sigmoid = nn.Sigmoid()\n",
    "        W1, b1, W2, b2 = get_item(NN2)\n",
    "        self.fc1.weight.data = torch.from_numpy(W1.T)\n",
    "        self.fc1.bias.data = torch.from_numpy(b1)\n",
    "        self.fc2.weight.data = torch.from_numpy(W2.T)\n",
    "        self.fc2.bias.data = torch.from_numpy(b2)\n",
    "\n",
    "    def forward(self, x):\n",
    "        x = self.fc1(x)\n",
    "        h = self.sigmoid(x)\n",
    "        h = self.fc2(h)\n",
    "        h = self.sigmoid(h)\n",
    "        return h"
   ]
  },
  {
   "cell_type": "code",
   "execution_count": 22,
   "metadata": {},
   "outputs": [],
   "source": [
    "model = SimpleNN(input_dim, hidden_dim, output_dim,NN2)\n",
    "optimizer = torch.optim.SGD(model.parameters(), lr=0.001)"
   ]
  },
  {
   "cell_type": "markdown",
   "metadata": {},
   "source": [
    "## Compare"
   ]
  },
  {
   "cell_type": "code",
   "execution_count": 20,
   "metadata": {},
   "outputs": [
    {
     "name": "stdout",
     "output_type": "stream",
     "text": [
      "EPOCH : 1\n",
      "hand  : 0.24140837219056457\n",
      "check : 0.24140627945512252\n",
      "------------------------------\n",
      "EPOCH : 2\n",
      "hand  : 0.24140671355025933\n",
      "check : 0.2414046222029064\n",
      "------------------------------\n",
      "EPOCH : 3\n",
      "hand  : 0.24140505614446575\n",
      "check : 0.2414029661836156\n",
      "------------------------------\n",
      "EPOCH : 4\n",
      "hand  : 0.24140339997168747\n",
      "check : 0.2414013113957562\n",
      "------------------------------\n",
      "EPOCH : 5\n",
      "hand  : 0.24140174503043046\n",
      "check : 0.241399657837837\n",
      "------------------------------\n",
      "EPOCH : 6\n",
      "hand  : 0.24140009131920315\n",
      "check : 0.24139800550836907\n",
      "------------------------------\n",
      "EPOCH : 7\n",
      "hand  : 0.24139843883651668\n",
      "check : 0.24139635440586596\n",
      "------------------------------\n",
      "EPOCH : 8\n",
      "hand  : 0.24139678758088443\n",
      "check : 0.24139470452884373\n",
      "------------------------------\n",
      "EPOCH : 9\n",
      "hand  : 0.24139513755082245\n",
      "check : 0.241393055875821\n",
      "------------------------------\n",
      "EPOCH : 10\n",
      "hand  : 0.24139348874484892\n",
      "check : 0.24139140844531856\n",
      "------------------------------\n",
      "EPOCH : 11\n",
      "hand  : 0.24139184116148474\n",
      "check : 0.24138976223585978\n",
      "------------------------------\n",
      "EPOCH : 12\n",
      "hand  : 0.24139019479925306\n",
      "check : 0.24138811724597045\n",
      "------------------------------\n",
      "EPOCH : 13\n",
      "hand  : 0.24138854965667955\n",
      "check : 0.24138647347417858\n",
      "------------------------------\n",
      "EPOCH : 14\n",
      "hand  : 0.24138690573229224\n",
      "check : 0.2413848309190148\n",
      "------------------------------\n",
      "EPOCH : 15\n",
      "hand  : 0.24138526302462146\n",
      "check : 0.24138318957901198\n",
      "------------------------------\n",
      "EPOCH : 16\n",
      "hand  : 0.24138362153220008\n",
      "check : 0.24138154945270543\n",
      "------------------------------\n",
      "EPOCH : 17\n",
      "hand  : 0.24138198125356314\n",
      "check : 0.24137991053863267\n",
      "------------------------------\n",
      "EPOCH : 18\n",
      "hand  : 0.24138034218724821\n",
      "check : 0.2413782728353337\n",
      "------------------------------\n",
      "EPOCH : 19\n",
      "hand  : 0.24137870433179504\n",
      "check : 0.24137663634135081\n",
      "------------------------------\n",
      "EPOCH : 20\n",
      "hand  : 0.24137706768574596\n",
      "check : 0.2413750010552286\n",
      "------------------------------\n",
      "EPOCH : 21\n",
      "hand  : 0.24137543224764535\n",
      "check : 0.24137336697551412\n",
      "------------------------------\n",
      "EPOCH : 22\n",
      "hand  : 0.2413737980160402\n",
      "check : 0.24137173410075657\n",
      "------------------------------\n",
      "EPOCH : 23\n",
      "hand  : 0.24137216498947947\n",
      "check : 0.24137010242950752\n",
      "------------------------------\n",
      "EPOCH : 24\n",
      "hand  : 0.24137053316651474\n",
      "check : 0.2413684719603208\n",
      "------------------------------\n",
      "EPOCH : 25\n",
      "hand  : 0.24136890254569984\n",
      "check : 0.24136684269175263\n",
      "------------------------------\n",
      "EPOCH : 26\n",
      "hand  : 0.24136727312559064\n",
      "check : 0.24136521462236146\n",
      "------------------------------\n",
      "EPOCH : 27\n",
      "hand  : 0.24136564490474563\n",
      "check : 0.241363587750708\n",
      "------------------------------\n",
      "EPOCH : 28\n",
      "hand  : 0.24136401788172546\n",
      "check : 0.2413619620753552\n",
      "------------------------------\n",
      "EPOCH : 29\n",
      "hand  : 0.2413623920550928\n",
      "check : 0.24136033759486838\n",
      "------------------------------\n",
      "EPOCH : 30\n",
      "hand  : 0.2413607674234131\n",
      "check : 0.241358714307815\n",
      "------------------------------\n"
     ]
    }
   ],
   "source": [
    "for i in range(epochs):\n",
    "    \n",
    "    print('EPOCH :',i+1)\n",
    "    \n",
    "    # hand\n",
    "    loss_1 = backward(x_train, y_train, NN, learning_rate)\n",
    "    print('hand  :',loss_1)  \n",
    "\n",
    "    # check\n",
    "    out= model(x_train1)\n",
    "    loss = nn.MSELoss()\n",
    "    loss_2 = loss(out, y_train1.double())\n",
    "    optimizer.zero_grad()\n",
    "    loss_2.backward()\n",
    "    optimizer.step()\n",
    "    print('check :',loss_2.item())\n",
    "    print(\"-\" * 30)\n"
   ]
  }
 ],
 "metadata": {
  "kernelspec": {
   "display_name": "env",
   "language": "python",
   "name": "python3"
  },
  "language_info": {
   "codemirror_mode": {
    "name": "ipython",
    "version": 3
   },
   "file_extension": ".py",
   "mimetype": "text/x-python",
   "name": "python",
   "nbconvert_exporter": "python",
   "pygments_lexer": "ipython3",
   "version": "3.10.12"
  }
 },
 "nbformat": 4,
 "nbformat_minor": 2
}
