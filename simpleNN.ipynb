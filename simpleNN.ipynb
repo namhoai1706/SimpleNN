{
 "cells": [
  {
   "cell_type": "code",
   "execution_count": 648,
   "metadata": {},
   "outputs": [],
   "source": [
    "import numpy as np\n",
    "import torch\n",
    "import torch.nn as nn\n",
    "import sklearn.datasets"
   ]
  },
  {
   "cell_type": "markdown",
   "metadata": {},
   "source": [
    "### Data"
   ]
  },
  {
   "cell_type": "code",
   "execution_count": 649,
   "metadata": {},
   "outputs": [],
   "source": [
    "x_train = np.random.rand(100, 5)\n",
    "y_train = np.random.randint(0, 2, (100)).reshape(-1, 1)\n",
    "x_train1 = torch.tensor(x_train)\n",
    "y_train1 = torch.tensor(y_train)\n",
    "# làm tròn\n",
    "x_train = np.round(x_train, decimals=4)\n",
    "\n"
   ]
  },
  {
   "cell_type": "markdown",
   "metadata": {},
   "source": [
    "### Hyperparameters"
   ]
  },
  {
   "cell_type": "code",
   "execution_count": 650,
   "metadata": {},
   "outputs": [],
   "source": [
    "input_dim = 5\n",
    "output_dim = 1\n",
    "hidden_dim = 3\n",
    "learning_rate = 0.001\n",
    "epochs = 30"
   ]
  },
  {
   "cell_type": "markdown",
   "metadata": {},
   "source": [
    "### Function"
   ]
  },
  {
   "cell_type": "code",
   "execution_count": 651,
   "metadata": {},
   "outputs": [],
   "source": [
    "def sigmoid(x):\n",
    "    return (1/(1+np.exp(-x)))"
   ]
  },
  {
   "cell_type": "code",
   "execution_count": 652,
   "metadata": {},
   "outputs": [],
   "source": [
    "def get_item(NN):\n",
    "    w1 = NN[\"w1\"]\n",
    "    b1 = NN[\"b1\"]\n",
    "    w2 = NN[\"w2\"]\n",
    "    b2 = NN[\"b2\"]\n",
    "    return w1, b1, w2, b2"
   ]
  },
  {
   "cell_type": "markdown",
   "metadata": {},
   "source": [
    "### Weights & Bias"
   ]
  },
  {
   "cell_type": "code",
   "execution_count": 653,
   "metadata": {},
   "outputs": [],
   "source": [
    "w1 = np.random.randn(input_dim, hidden_dim)\n",
    "b1 = np.zeros((1, hidden_dim))\n",
    "w2 = np.random.randn(hidden_dim, output_dim)\n",
    "b2 = np.zeros((1, output_dim))\n",
    "NN = {'w1':w1,'b1':b1,'w2':w2,'b2':b2}\n",
    "NN2 = NN"
   ]
  },
  {
   "cell_type": "markdown",
   "metadata": {},
   "source": [
    "## FOR AND BACK"
   ]
  },
  {
   "cell_type": "code",
   "execution_count": 654,
   "metadata": {},
   "outputs": [],
   "source": [
    "def forward(x,NN):\n",
    "    W1,b1,W2,b2=get_item(NN)\n",
    "    z1 = x.dot(W1) + b1\n",
    "    a1 = sigmoid(z1)\n",
    "    z2 = a1.dot(W2) + b2\n",
    "    a2 = sigmoid(z2)\n",
    "    return a1,a2"
   ]
  },
  {
   "cell_type": "code",
   "execution_count": 655,
   "metadata": {},
   "outputs": [],
   "source": [
    "def lossMSE(a2,y):\n",
    "\n",
    "    return np.mean(np.square(a2 - y))"
   ]
  },
  {
   "cell_type": "code",
   "execution_count": 656,
   "metadata": {},
   "outputs": [],
   "source": [
    "def backward(x, y,NN,learning_rate):\n",
    "\n",
    "    W1, b1, W2, b2 = get_item(NN)\n",
    "    a1,a2= forward(x,NN)\n",
    "\n",
    "    # tính delta\n",
    "    delta3 = a2 - y\n",
    "\n",
    "    dW2 = np.dot(a1.T, delta3)\n",
    "    db2 = np.sum(delta3, axis=0, keepdims=True)\n",
    "\n",
    "    delta2 = np.dot(delta3, W2.T) * a1 * (1 - a1)\n",
    "    dW1 = np.dot(x.T, delta2)\n",
    "    db1 = np.sum(delta2, axis=0, keepdims=True)\n",
    "\n",
    "    # update\n",
    "    W1 += -learning_rate * dW1\n",
    "    b1 += -learning_rate * db1\n",
    "    W2 += -learning_rate * dW2\n",
    "    b2 += -learning_rate * db2\n",
    "    NN[\"w1\"] = W1\n",
    "    NN[\"b1\"] = b1\n",
    "    NN[\"w2\"] = W2\n",
    "    NN[\"b2\"] = b2\n",
    "\n",
    "    return lossMSE(a2,y)"
   ]
  },
  {
   "cell_type": "markdown",
   "metadata": {},
   "source": [
    "## CODE CHECK"
   ]
  },
  {
   "cell_type": "code",
   "execution_count": 657,
   "metadata": {},
   "outputs": [],
   "source": [
    "class SimpleNN(nn.Module):\n",
    "    def __init__(self, input_size, hidden_size, output_size,NN2):\n",
    "        super(SimpleNN, self).__init__()\n",
    "        self.fc1 = nn.Linear(input_size, hidden_size)\n",
    "        self.fc2 = nn.Linear(hidden_size, output_size)\n",
    "        self.sigmoid = nn.Sigmoid()\n",
    "        W1, b1, W2, b2 = get_item(NN2)\n",
    "        self.fc1.weight.data = torch.from_numpy(W1.T)\n",
    "        self.fc1.bias.data = torch.from_numpy(b1)\n",
    "        self.fc2.weight.data = torch.from_numpy(W2.T)\n",
    "        self.fc2.bias.data = torch.from_numpy(b2)\n",
    "\n",
    "    def forward(self, x):\n",
    "        x = self.fc1(x)\n",
    "        h = self.sigmoid(x)\n",
    "        h = self.fc2(h)\n",
    "        h = self.sigmoid(h)\n",
    "        return h"
   ]
  },
  {
   "cell_type": "code",
   "execution_count": 658,
   "metadata": {},
   "outputs": [],
   "source": [
    "model = SimpleNN(input_dim, hidden_dim, output_dim,NN2)\n",
    "optimizer = torch.optim.SGD(model.parameters(), lr=0.001)"
   ]
  },
  {
   "cell_type": "markdown",
   "metadata": {},
   "source": [
    "### Compare"
   ]
  },
  {
   "cell_type": "code",
   "execution_count": 659,
   "metadata": {},
   "outputs": [
    {
     "name": "stdout",
     "output_type": "stream",
     "text": [
      "EPOCH : 1\n",
      "hand: 0.25049922357817106\n",
      "check : 0.25035271457166425\n",
      "EPOCH : 2\n",
      "hand: 0.250352138063447\n",
      "check : 0.2502222475810939\n",
      "EPOCH : 3\n",
      "hand: 0.250221747031442\n",
      "check : 0.2501065566567643\n",
      "EPOCH : 4\n",
      "hand: 0.2501061234096367\n",
      "check : 0.2500039332644649\n",
      "EPOCH : 5\n",
      "hand: 0.2500035596368782\n",
      "check : 0.24991286414661296\n",
      "EPOCH : 6\n",
      "hand: 0.24991254332347165\n",
      "check : 0.24983200952162232\n",
      "EPOCH : 7\n",
      "hand: 0.24983173546095577\n",
      "check : 0.24976018360072705\n",
      "EPOCH : 8\n",
      "hand: 0.24975995094852724\n",
      "check : 0.249696337202386\n",
      "EPOCH : 9\n",
      "hand: 0.24969614121624584\n",
      "check : 0.2496395422589952\n",
      "EPOCH : 10\n",
      "hand: 0.24963937873977163\n",
      "check : 0.24958897802590665\n",
      "EPOCH : 11\n",
      "hand: 0.24958884325666875\n",
      "check : 0.24954391881811386\n",
      "EPOCH : 12\n",
      "hand: 0.24954380950967983\n",
      "check : 0.24950372311501406\n",
      "EPOCH : 13\n",
      "hand: 0.24950363635742814\n",
      "check : 0.24946782388811242\n",
      "EPOCH : 14\n",
      "hand: 0.2494677571074617\n",
      "check : 0.24943572002021308\n",
      "EPOCH : 15\n",
      "hand: 0.24943567094023458\n",
      "check : 0.24940696869744705\n",
      "EPOCH : 16\n",
      "hand: 0.2494069353054228\n",
      "check : 0.24938117866735404\n",
      "EPOCH : 17\n",
      "hand: 0.24938115918383727\n",
      "check : 0.24935800426715982\n",
      "EPOCH : 18\n",
      "hand: 0.24935799711911938\n",
      "check : 0.24933714013638084\n",
      "EPOCH : 19\n",
      "hand: 0.2493371439333923\n",
      "check : 0.2493183165369841\n",
      "EPOCH : 20\n",
      "hand: 0.24931833005013157\n",
      "check : 0.2493012952125675\n",
      "EPOCH : 21\n",
      "hand: 0.24930131735575603\n",
      "check : 0.24928586572547126\n",
      "EPOCH : 22\n",
      "hand: 0.24928589553888073\n",
      "check : 0.24927184221742738\n",
      "EPOCH : 23\n",
      "hand: 0.2492718788528673\n",
      "check : 0.24925906054537283\n",
      "EPOCH : 24\n",
      "hand: 0.2492591032533237\n",
      "check : 0.2492473757494413\n",
      "EPOCH : 25\n",
      "hand: 0.24924742386759088\n",
      "check : 0.24923665981496768\n",
      "EPOCH : 26\n",
      "hand: 0.24923671275807208\n",
      "check : 0.24922679969464487\n",
      "EPOCH : 27\n",
      "hand: 0.24922685694556354\n",
      "check : 0.24921769556080778\n",
      "EPOCH : 28\n",
      "hand: 0.24921775666257698\n",
      "check : 0.24920925926123616\n",
      "EPOCH : 29\n",
      "hand: 0.24920932381006278\n",
      "check : 0.24920141295490592\n",
      "EPOCH : 30\n",
      "hand: 0.24920148059397434\n",
      "check : 0.24919408790682007\n",
      "RESULS 0\n"
     ]
    }
   ],
   "source": [
    "\n",
    "for i in range(epochs):\n",
    "    print('EPOCH :',i+1)\n",
    "    # hand\n",
    "    loss_1 = backward(x_train, y_train, NN, learning_rate)\n",
    "    print('hand:',loss_1)  \n",
    "\n",
    "    # check\n",
    "    out= model(x_train1)\n",
    "    loss = nn.MSELoss()\n",
    "    loss_2 = loss(out, y_train1.double())\n",
    "    optimizer.zero_grad()\n",
    "    loss_2.backward()\n",
    "    optimizer.step()\n",
    "    print('check :',loss_2.item())"
   ]
  }
 ],
 "metadata": {
  "kernelspec": {
   "display_name": "env",
   "language": "python",
   "name": "python3"
  },
  "language_info": {
   "codemirror_mode": {
    "name": "ipython",
    "version": 3
   },
   "file_extension": ".py",
   "mimetype": "text/x-python",
   "name": "python",
   "nbconvert_exporter": "python",
   "pygments_lexer": "ipython3",
   "version": "3.10.12"
  }
 },
 "nbformat": 4,
 "nbformat_minor": 2
}
