{
 "cells": [
  {
   "cell_type": "code",
   "execution_count": 4,
   "metadata": {},
   "outputs": [],
   "source": [
    "import numpy as np\n",
    "import torch\n",
    "import torch.nn as nn\n",
    "import pandas as pd"
   ]
  },
  {
   "cell_type": "markdown",
   "metadata": {},
   "source": [
    "#### DATA"
   ]
  },
  {
   "cell_type": "code",
   "execution_count": 5,
   "metadata": {},
   "outputs": [],
   "source": [
    "data = pd.read_csv(\"/home/namhoai/WorkingSpace/train.csv\")\n",
    "\n",
    "\n",
    "linkcheck = \"https://www.kaggle.com/code/wwsalmon/simple-mnist-nn-from-scratch-numpy-no-tf-keras/notebook\""
   ]
  },
  {
   "cell_type": "code",
   "execution_count": 6,
   "metadata": {},
   "outputs": [],
   "source": [
    "data = np.array(data)\n",
    "m, n = data.shape\n",
    "np.random.shuffle(data) \n",
    "# nn1\n",
    "data_dev = data[0:1000]\n",
    "Y_dev = data_dev[:,0]\n",
    "X_dev = data_dev[:,1:]\n",
    "X_dev = X_dev / 255.0\n",
    "\n",
    "data_train = data[1000:m]\n",
    "Y_train = data_train[:, 0]\n",
    "X_train = data_train[:, 1:]\n",
    "X_train = X_train / 255.0"
   ]
  },
  {
   "cell_type": "markdown",
   "metadata": {},
   "source": [
    "#### HYPER"
   ]
  },
  {
   "cell_type": "code",
   "execution_count": 7,
   "metadata": {},
   "outputs": [],
   "source": [
    "input_dim = 784\n",
    "output_dim = 10\n",
    "hidden_dim = 10\n",
    "learning_rate = 0.1\n",
    "epochs = 500"
   ]
  },
  {
   "cell_type": "code",
   "execution_count": 8,
   "metadata": {},
   "outputs": [],
   "source": [
    "w1 = np.random.rand(input_dim,hidden_dim) - 0.5\n",
    "b1 = np.random.rand(1,hidden_dim) - 0.5\n",
    "w2 = np.random.rand(hidden_dim, output_dim) - 0.5\n",
    "b2 = np.random.rand(1,output_dim) - 0.5\n",
    "NN = {\"w1\": w1, \"b1\": b1, \"w2\": w2, \"b2\": b2}"
   ]
  },
  {
   "cell_type": "markdown",
   "metadata": {},
   "source": [
    "#### DEFINITION"
   ]
  },
  {
   "cell_type": "code",
   "execution_count": 9,
   "metadata": {},
   "outputs": [],
   "source": [
    "def softmax(Z):\n",
    "    exp_scores = np.exp(Z)\n",
    "    softmax = exp_scores / np.sum(exp_scores, axis=1, keepdims=True)\n",
    "    return softmax\n",
    "\n",
    "def relu(x):\n",
    "    return np.maximum(0, x)\n",
    "\n",
    "\n",
    "def get_predictions(A2):\n",
    "    return np.argmax(A2, 0)\n",
    "\n",
    "\n",
    "def get_accuracy(predictions, Y):\n",
    "    print(predictions, Y)\n",
    "    return np.sum(predictions == Y) / Y.size\n",
    "\n",
    "def get_item(NN):\n",
    "    w1 = NN[\"w1\"]\n",
    "    b1 = NN[\"b1\"]\n",
    "    w2 = NN[\"w2\"]\n",
    "    b2 = NN[\"b2\"]\n",
    "    return w1, b1, w2, b2"
   ]
  },
  {
   "cell_type": "markdown",
   "metadata": {},
   "source": [
    "#### FOR AND BACK"
   ]
  },
  {
   "cell_type": "code",
   "execution_count": 10,
   "metadata": {},
   "outputs": [],
   "source": [
    "def forward(x, NN):\n",
    "    W1, b1, W2, b2 = get_item(NN)\n",
    "    z1 = x.dot(W1) + b1\n",
    "    a1 = relu(z1)\n",
    "    z2 = a1.dot(W2) + b2\n",
    "    a2 = softmax(z2)\n",
    "    return a1, a2"
   ]
  },
  {
   "cell_type": "code",
   "execution_count": 11,
   "metadata": {},
   "outputs": [],
   "source": [
    "def ReLU_deriv(Z):\n",
    "    return Z > 0\n",
    "\n",
    "def one_hot(Y):\n",
    "    one_hot_Y = np.zeros((Y.size, Y.max() + 1))\n",
    "    one_hot_Y[np.arange(Y.size), Y] = 1\n",
    "    one_hot_Y = one_hot_Y\n",
    "    return one_hot_Y"
   ]
  },
  {
   "cell_type": "code",
   "execution_count": 12,
   "metadata": {},
   "outputs": [],
   "source": [
    "def backward(x, y, NN, learning_rate):\n",
    "\n",
    "    W1, b1, W2, b2 = get_item(NN)\n",
    "    a1, a2 = forward(x, NN)\n",
    "\n",
    "    delta3 = a2 - one_hot(y)\n",
    "\n",
    "    dW2 = (1 / m) * np.dot(a1.T, delta3)\n",
    "    db2 = (1 / m) * np.sum(delta3, axis=0, keepdims=True)\n",
    "\n",
    "    delta2 = np.dot(delta3, W2.T) * ReLU_deriv(a1)\n",
    "    dW1 = (1 / m) * np.dot(x.T, delta2)\n",
    "    db1 = (1 / m) * np.sum(delta2, axis=0, keepdims=True)\n",
    "\n",
    "    # update\n",
    "    W1 += -learning_rate * dW1\n",
    "    b1 += -learning_rate * db1\n",
    "    W2 += -learning_rate * dW2\n",
    "    b2 += -learning_rate * db2\n",
    "    NN[\"w1\"] = W1\n",
    "    NN[\"b1\"] = b1\n",
    "    NN[\"w2\"] = W2\n",
    "    NN[\"b2\"] = b2\n",
    "\n",
    "    return a2"
   ]
  },
  {
   "cell_type": "markdown",
   "metadata": {},
   "source": [
    "#### TRAIN"
   ]
  },
  {
   "cell_type": "code",
   "execution_count": 13,
   "metadata": {},
   "outputs": [
    {
     "name": "stdout",
     "output_type": "stream",
     "text": [
      "Iteration:  0\n",
      "[7 7 3 ... 8 8 8] [7 7 2 ... 0 3 7]\n",
      "0.10504878048780487\n"
     ]
    },
    {
     "name": "stdout",
     "output_type": "stream",
     "text": [
      "Iteration:  50\n",
      "[1 7 2 ... 8 8 7] [7 7 2 ... 0 3 7]\n",
      "0.4637317073170732\n",
      "Iteration:  100\n",
      "[7 7 2 ... 8 3 7] [7 7 2 ... 0 3 7]\n",
      "0.6207317073170732\n",
      "Iteration:  150\n",
      "[7 7 2 ... 8 3 7] [7 7 2 ... 0 3 7]\n",
      "0.6915121951219512\n",
      "Iteration:  200\n",
      "[7 7 2 ... 8 3 7] [7 7 2 ... 0 3 7]\n",
      "0.7350487804878049\n",
      "Iteration:  250\n",
      "[7 7 2 ... 8 3 7] [7 7 2 ... 0 3 7]\n",
      "0.7677073170731707\n",
      "Iteration:  300\n",
      "[7 7 2 ... 8 3 7] [7 7 2 ... 0 3 7]\n",
      "0.7915609756097561\n",
      "Iteration:  350\n",
      "[7 7 2 ... 8 3 7] [7 7 2 ... 0 3 7]\n",
      "0.8086585365853659\n",
      "Iteration:  400\n",
      "[7 7 2 ... 8 3 7] [7 7 2 ... 0 3 7]\n",
      "0.8213170731707317\n",
      "Iteration:  450\n",
      "[7 7 2 ... 8 3 7] [7 7 2 ... 0 3 7]\n",
      "0.8315121951219512\n"
     ]
    }
   ],
   "source": [
    "for i in range(epochs):\n",
    "\n",
    "    a2 = backward(X_train, Y_train, NN, learning_rate)\n",
    "    if i % 50 == 0:\n",
    "        print(\"Iteration: \", i)\n",
    "        predictions = get_predictions(a2.T)\n",
    "        print(get_accuracy(predictions, Y_train.T))\n",
    "    "
   ]
  },
  {
   "cell_type": "markdown",
   "metadata": {},
   "source": [
    "#### TEST"
   ]
  },
  {
   "cell_type": "code",
   "execution_count": 14,
   "metadata": {},
   "outputs": [],
   "source": [
    "def make_predictions(X,NN):\n",
    "    _, A2 =  forward(X,NN)\n",
    "    predictions = get_predictions(A2.T)\n",
    "    return predictions"
   ]
  },
  {
   "cell_type": "code",
   "execution_count": 15,
   "metadata": {},
   "outputs": [
    {
     "name": "stdout",
     "output_type": "stream",
     "text": [
      "[3 9 4 0 6 9 9 2 1 1 0 3 5 8 2 6 9 1 3 0 3 8 9 3 5 5 9 2 1 2 7 3 3 9 2 9 0\n",
      " 2 8 8 7 5 3 8 9 4 1 5 7 1 1 8 8 8 6 5 4 5 1 0 3 5 1 0 6 4 6 8 8 6 5 0 1 5\n",
      " 6 5 6 8 7 8 1 2 6 9 3 1 1 9 7 6 3 7 6 8 4 3 5 7 3 8 9 7 1 7 0 5 5 2 7 6 0\n",
      " 8 5 4 9 0 0 3 5 6 0 7 7 2 4 2 4 5 9 3 4 9 0 6 0 5 5 6 1 5 3 5 0 6 7 3 5 9\n",
      " 2 6 8 6 7 2 5 6 8 8 0 7 4 6 2 8 6 5 6 3 4 5 2 0 7 5 3 2 0 9 2 8 7 4 4 7 9\n",
      " 1 6 0 1 1 0 3 1 9 0 3 1 7 0 5 1 6 1 6 3 2 2 2 1 3 2 0 1 8 3 0 4 2 9 1 4 6\n",
      " 0 2 4 3 4 9 1 1 5 3 1 0 4 9 1 3 9 0 7 9 1 7 6 1 9 0 6 2 2 7 3 5 8 0 6 2 9\n",
      " 4 8 0 2 7 0 4 6 6 0 5 1 5 6 5 7 7 7 4 1 7 8 8 1 2 8 9 0 6 7 6 8 7 8 3 0 0\n",
      " 7 8 3 3 9 9 6 7 3 0 7 7 0 6 2 0 9 4 8 0 0 8 5 6 9 9 8 3 3 4 0 4 9 4 4 7 6\n",
      " 3 6 6 0 2 1 3 4 5 1 8 6 6 2 1 1 9 8 4 3 3 7 3 3 0 0 8 5 2 8 6 2 5 1 6 9 1\n",
      " 2 2 3 3 6 0 1 0 6 5 5 4 4 3 2 2 3 6 9 4 4 9 7 8 8 3 7 3 5 1 7 4 4 8 8 0 8\n",
      " 8 0 1 2 5 5 2 9 1 6 7 8 5 6 2 3 0 6 7 7 0 6 4 9 0 2 2 4 1 5 9 2 0 5 6 2 4\n",
      " 8 9 7 8 8 1 8 8 9 2 7 7 7 1 4 1 5 2 7 3 3 6 6 6 1 5 1 1 4 6 3 9 6 2 6 7 2\n",
      " 6 4 9 7 4 0 6 6 2 0 8 7 5 7 1 2 0 7 9 7 7 1 0 2 7 7 8 5 9 0 8 7 0 4 9 6 4\n",
      " 9 3 1 0 9 3 1 1 7 8 7 2 0 8 7 5 0 7 3 3 5 3 2 4 2 7 3 6 2 2 9 8 0 2 7 0 9\n",
      " 7 7 7 9 4 7 7 6 2 2 3 4 0 9 7 9 3 5 8 0 0 8 3 2 5 5 9 9 2 1 4 1 9 9 4 5 9\n",
      " 4 8 6 3 3 1 3 1 1 8 5 6 4 1 2 9 8 6 9 8 4 6 3 4 5 8 6 3 5 4 0 8 1 6 5 8 0\n",
      " 6 5 1 5 8 2 3 4 7 8 4 1 0 7 9 3 4 7 4 3 6 6 0 3 1 3 6 1 7 8 6 4 7 9 0 7 6\n",
      " 0 4 2 4 3 6 9 3 1 8 8 2 2 6 1 2 7 5 0 5 3 7 2 8 4 5 3 6 0 8 1 4 6 3 6 8 4\n",
      " 2 0 3 3 6 4 5 9 4 7 4 0 9 1 7 0 3 7 7 2 6 9 7 8 2 8 4 6 2 4 1 2 8 4 3 4 8\n",
      " 5 1 5 1 6 5 7 4 4 5 6 1 3 7 5 5 7 2 7 9 0 8 0 0 0 2 7 4 2 2 8 1 8 4 8 3 7\n",
      " 4 0 2 4 4 4 3 0 0 6 5 3 7 7 7 1 2 8 2 9 8 3 2 7 4 2 1 8 1 3 9 9 0 1 2 2 9\n",
      " 7 8 0 3 9 7 9 1 3 2 6 7 1 7 6 0 6 6 5 9 6 5 2 2 6 7 9 1 7 5 3 2 8 9 6 3 6\n",
      " 7 9 5 7 4 3 3 0 7 7 0 4 6 2 1 3 1 1 1 8 4 8 0 1 4 8 7 5 0 6 0 0 1 1 3 6 8\n",
      " 1 0 0 8 4 2 8 0 4 7 6 1 4 4 8 1 7 0 5 6 4 3 8 3 3 1 1 2 1 6 9 3 0 0 7 1 5\n",
      " 9 9 4 9 2 5 8 1 6 3 3 7 9 6 8 3 7 5 0 0 8 7 2 4 9 1 6 9 3 9 0 0 8 3 5 9 1\n",
      " 9 6 1 3 3 3 3 7 9 0 1 0 9 7 1 9 6 0 4 9 1 8 8 9 2 4 9 5 4 5 7 2 6 4 3 1 6\n",
      " 2] [3 4 4 0 6 9 9 3 1 1 0 2 8 8 2 6 9 1 3 0 3 8 2 3 5 5 9 2 1 2 3 3 2 9 2 9 8\n",
      " 2 4 8 7 5 3 8 9 4 1 5 7 1 1 8 8 1 6 5 4 5 1 0 3 8 1 0 6 4 6 8 8 6 5 0 1 5\n",
      " 4 5 6 8 7 8 1 8 6 7 3 1 1 9 2 6 3 7 6 8 4 3 5 7 3 8 8 7 1 7 0 5 3 2 7 6 0\n",
      " 5 5 4 9 0 0 3 5 6 0 7 7 2 4 2 9 5 9 5 2 9 0 6 0 5 3 6 1 5 3 5 0 2 5 0 5 9\n",
      " 2 6 3 6 7 2 8 6 8 5 0 7 2 6 7 8 2 5 6 3 4 5 2 0 7 5 3 2 0 9 2 8 7 4 4 7 9\n",
      " 1 6 0 1 1 0 2 1 9 0 3 1 7 0 5 1 6 5 6 2 8 2 2 1 3 2 0 1 3 3 5 4 8 9 1 4 2\n",
      " 0 2 4 3 4 9 1 1 5 8 1 0 4 8 1 3 9 8 7 9 1 7 6 1 9 0 2 2 2 7 3 5 8 0 4 7 8\n",
      " 8 8 0 2 7 0 4 6 6 5 5 1 5 5 5 7 7 7 4 1 7 8 8 1 2 8 9 0 6 7 6 8 7 8 3 0 0\n",
      " 7 5 5 3 9 9 6 9 3 0 7 7 0 6 2 0 8 4 5 0 0 8 5 6 9 8 2 3 5 4 0 4 9 4 9 7 6\n",
      " 3 6 6 0 1 1 3 4 5 1 5 6 6 2 1 1 9 5 1 3 3 7 3 3 0 0 8 3 2 8 6 2 5 1 6 9 1\n",
      " 2 2 3 3 6 0 1 5 6 5 5 4 4 3 5 2 3 6 9 4 5 9 7 8 8 3 7 3 5 1 7 9 4 8 8 0 8\n",
      " 8 0 1 2 5 5 6 9 2 6 5 8 5 6 2 3 0 6 7 4 0 6 4 9 0 2 2 4 1 1 9 2 0 5 6 7 4\n",
      " 8 9 5 8 3 1 8 8 9 2 7 7 7 1 4 1 3 2 7 3 2 6 6 6 1 5 1 1 4 6 3 4 6 3 6 7 2\n",
      " 6 4 9 7 4 0 6 6 2 0 8 7 5 7 1 7 0 7 9 7 7 1 0 2 7 7 4 5 4 0 8 7 0 9 8 6 6\n",
      " 9 3 1 0 4 3 1 1 1 3 7 2 0 8 7 5 0 7 1 3 5 3 2 4 3 7 5 8 7 6 8 8 0 2 7 0 9\n",
      " 3 7 7 9 9 7 7 6 2 2 5 9 5 7 7 8 3 5 8 0 0 8 3 2 5 5 9 9 2 1 4 1 9 9 4 5 9\n",
      " 4 8 6 3 2 1 3 1 1 8 4 6 9 1 2 9 8 6 9 8 4 2 3 4 5 8 6 3 3 4 5 8 1 6 5 8 0\n",
      " 2 5 1 5 5 2 3 4 7 8 5 1 0 7 9 3 4 7 4 3 4 6 0 3 1 3 6 1 7 8 6 4 7 8 5 7 6\n",
      " 0 4 2 4 3 2 9 3 1 8 8 2 2 6 1 2 7 5 0 5 3 7 2 8 9 5 3 6 0 8 1 4 6 3 6 8 4\n",
      " 1 0 3 3 0 4 5 7 4 7 4 0 9 1 7 0 3 7 7 3 6 9 7 3 2 8 4 6 2 4 1 2 2 4 3 9 8\n",
      " 5 1 5 1 6 3 7 4 4 5 6 1 5 7 3 5 7 2 7 8 0 8 0 0 0 2 7 4 2 2 8 1 8 5 8 3 3\n",
      " 4 0 5 4 4 4 3 0 0 6 5 3 9 7 7 1 2 8 2 9 8 3 2 7 4 2 1 8 1 3 5 9 0 1 2 2 9\n",
      " 9 8 0 3 9 7 9 1 3 2 7 7 1 7 6 0 6 6 0 9 6 0 2 2 6 7 9 1 7 5 3 2 8 9 6 3 6\n",
      " 7 9 5 7 4 3 3 0 9 7 0 4 6 2 1 3 1 8 1 8 4 6 0 1 9 8 7 5 0 6 2 0 1 1 3 6 8\n",
      " 1 0 0 5 4 2 8 0 4 7 6 8 4 4 8 1 7 0 5 6 4 7 8 3 3 1 1 2 1 6 9 3 0 0 7 1 5\n",
      " 9 9 4 9 2 5 5 1 6 3 3 7 4 6 5 8 7 5 0 0 8 7 2 4 9 1 6 9 3 4 0 0 8 3 5 9 1\n",
      " 9 6 1 3 5 3 3 7 4 0 1 0 9 7 1 7 6 0 9 9 1 2 8 3 8 4 9 8 4 5 7 2 6 4 3 1 6\n",
      " 2]\n"
     ]
    },
    {
     "data": {
      "text/plain": [
       "0.843"
      ]
     },
     "execution_count": 15,
     "metadata": {},
     "output_type": "execute_result"
    }
   ],
   "source": [
    "\n",
    "dev_predictions = make_predictions(X_dev,NN)\n",
    "get_accuracy(dev_predictions, Y_dev.T)"
   ]
  }
 ],
 "metadata": {
  "kernelspec": {
   "display_name": "env",
   "language": "python",
   "name": "python3"
  },
  "language_info": {
   "codemirror_mode": {
    "name": "ipython",
    "version": 3
   },
   "file_extension": ".py",
   "mimetype": "text/x-python",
   "name": "python",
   "nbconvert_exporter": "python",
   "pygments_lexer": "ipython3",
   "version": "3.10.12"
  }
 },
 "nbformat": 4,
 "nbformat_minor": 2
}
